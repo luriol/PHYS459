{
  "nbformat": 4,
  "nbformat_minor": 0,
  "metadata": {
    "colab": {
      "name": "bubble_sort_2.ipynb",
      "provenance": [],
      "authorship_tag": "ABX9TyPJvitY0znT1kh4Tbjnnw34",
      "include_colab_link": true
    },
    "kernelspec": {
      "name": "python3",
      "display_name": "Python 3"
    },
    "language_info": {
      "name": "python"
    }
  },
  "cells": [
    {
      "cell_type": "markdown",
      "metadata": {
        "id": "view-in-github",
        "colab_type": "text"
      },
      "source": [
        "<a href=\"https://colab.research.google.com/github/luriol/PHYS459/blob/main/bubble_sort_2.ipynb\" target=\"_parent\"><img src=\"https://colab.research.google.com/assets/colab-badge.svg\" alt=\"Open In Colab\"/></a>"
      ]
    },
    {
      "cell_type": "code",
      "metadata": {
        "id": "JhHJkMf6Jlyk",
        "colab": {
          "base_uri": "https://localhost:8080/"
        },
        "outputId": "76050651-3cd1-43fb-81eb-c37dcc562440"
      },
      "source": [
        "# Python program for implementation of Bubble Sort\n",
        "\n",
        "def printarray(arr,j=-2):\n",
        "  sout = '['\n",
        "  for i in range(len(arr)):\n",
        "    if (i<j) or (i>j+1):\n",
        "      sout += \"% d\" % arr[i]\n",
        "    else:\n",
        "      sout += '\\033[91m'\n",
        "      sout += \"% d\" % arr[i]\n",
        "      sout += '\\033[0m'\n",
        "    if (i<len(arr)-1):\n",
        "      sout += (',')\n",
        "  sout += ']'\n",
        "  print(sout)\n",
        "\n",
        "def printline():\n",
        "          print('______________________________________________')\n",
        "\n",
        "  \n",
        "def bubbleSort(arr):\n",
        "    n = len(arr)\n",
        "    nop = 0\n",
        "    # Traverse through all array elements\n",
        "    for i in range(n-1):\n",
        "    # range(n) also work but outer loop will repeat one time more than needed.\n",
        "  \n",
        "        # Last i elements are already in place\n",
        "        nflip = 0\n",
        "        for j in range(0, n-i-1):\n",
        "            nop = nop +1\n",
        "            # traverse the array from 0 to n-i-1\n",
        "            # Swap if the element found is greater\n",
        "            # than the next element\n",
        "            if arr[j] > arr[j + 1] :\n",
        "                jprint = j\n",
        "                arr[j], arr[j + 1] = arr[j + 1], arr[j]\n",
        "                nflip += 1\n",
        "            else:\n",
        "              jprint = -2\n",
        "            printarray(arr,j=jprint)\n",
        "        printline()\n",
        "        if (nflip == 0):\n",
        "          break\n",
        "    print('total number of operations %d vs. n^2/2 = %d' % (nop,n**2/2))\n",
        "\n",
        "  \n",
        "# Driver code to test above\n",
        "arr = [34, 99, 25, 12, 22, 11, 90,101,105]\n",
        "  \n",
        "bubbleSort(arr)\n",
        "  \n",
        "print (\"Sorted array is:\")\n",
        "printarray(arr)"
      ],
      "execution_count": null,
      "outputs": [
        {
          "output_type": "stream",
          "text": [
            "[ 34, 99, 25, 12, 22, 11, 90, 101, 105]\n",
            "[ 34,\u001b[91m 25\u001b[0m,\u001b[91m 99\u001b[0m, 12, 22, 11, 90, 101, 105]\n",
            "[ 34, 25,\u001b[91m 12\u001b[0m,\u001b[91m 99\u001b[0m, 22, 11, 90, 101, 105]\n",
            "[ 34, 25, 12,\u001b[91m 22\u001b[0m,\u001b[91m 99\u001b[0m, 11, 90, 101, 105]\n",
            "[ 34, 25, 12, 22,\u001b[91m 11\u001b[0m,\u001b[91m 99\u001b[0m, 90, 101, 105]\n",
            "[ 34, 25, 12, 22, 11,\u001b[91m 90\u001b[0m,\u001b[91m 99\u001b[0m, 101, 105]\n",
            "[ 34, 25, 12, 22, 11, 90, 99, 101, 105]\n",
            "[ 34, 25, 12, 22, 11, 90, 99, 101, 105]\n",
            "______________________________________________\n",
            "[\u001b[91m 25\u001b[0m,\u001b[91m 34\u001b[0m, 12, 22, 11, 90, 99, 101, 105]\n",
            "[ 25,\u001b[91m 12\u001b[0m,\u001b[91m 34\u001b[0m, 22, 11, 90, 99, 101, 105]\n",
            "[ 25, 12,\u001b[91m 22\u001b[0m,\u001b[91m 34\u001b[0m, 11, 90, 99, 101, 105]\n",
            "[ 25, 12, 22,\u001b[91m 11\u001b[0m,\u001b[91m 34\u001b[0m, 90, 99, 101, 105]\n",
            "[ 25, 12, 22, 11, 34, 90, 99, 101, 105]\n",
            "[ 25, 12, 22, 11, 34, 90, 99, 101, 105]\n",
            "[ 25, 12, 22, 11, 34, 90, 99, 101, 105]\n",
            "______________________________________________\n",
            "[\u001b[91m 12\u001b[0m,\u001b[91m 25\u001b[0m, 22, 11, 34, 90, 99, 101, 105]\n",
            "[ 12,\u001b[91m 22\u001b[0m,\u001b[91m 25\u001b[0m, 11, 34, 90, 99, 101, 105]\n",
            "[ 12, 22,\u001b[91m 11\u001b[0m,\u001b[91m 25\u001b[0m, 34, 90, 99, 101, 105]\n",
            "[ 12, 22, 11, 25, 34, 90, 99, 101, 105]\n",
            "[ 12, 22, 11, 25, 34, 90, 99, 101, 105]\n",
            "[ 12, 22, 11, 25, 34, 90, 99, 101, 105]\n",
            "______________________________________________\n",
            "[ 12, 22, 11, 25, 34, 90, 99, 101, 105]\n",
            "[ 12,\u001b[91m 11\u001b[0m,\u001b[91m 22\u001b[0m, 25, 34, 90, 99, 101, 105]\n",
            "[ 12, 11, 22, 25, 34, 90, 99, 101, 105]\n",
            "[ 12, 11, 22, 25, 34, 90, 99, 101, 105]\n",
            "[ 12, 11, 22, 25, 34, 90, 99, 101, 105]\n",
            "______________________________________________\n",
            "[\u001b[91m 11\u001b[0m,\u001b[91m 12\u001b[0m, 22, 25, 34, 90, 99, 101, 105]\n",
            "[ 11, 12, 22, 25, 34, 90, 99, 101, 105]\n",
            "[ 11, 12, 22, 25, 34, 90, 99, 101, 105]\n",
            "[ 11, 12, 22, 25, 34, 90, 99, 101, 105]\n",
            "______________________________________________\n",
            "[ 11, 12, 22, 25, 34, 90, 99, 101, 105]\n",
            "[ 11, 12, 22, 25, 34, 90, 99, 101, 105]\n",
            "[ 11, 12, 22, 25, 34, 90, 99, 101, 105]\n",
            "______________________________________________\n",
            "total number of operations 33 vs. n^2/2 = 40\n",
            "Sorted array is:\n",
            "[ 11, 12, 22, 25, 34, 90, 99, 101, 105]\n"
          ],
          "name": "stdout"
        }
      ]
    },
    {
      "cell_type": "code",
      "metadata": {
        "id": "4ZiWM2BJkt4n",
        "colab": {
          "base_uri": "https://localhost:8080/"
        },
        "outputId": "624d1b24-88fc-4037-eb1c-86a9e1dd0ff1"
      },
      "source": [
        "print(\"%d\" % arr[i])"
      ],
      "execution_count": null,
      "outputs": [
        {
          "output_type": "stream",
          "text": [
            "90\n"
          ],
          "name": "stdout"
        }
      ]
    },
    {
      "cell_type": "code",
      "metadata": {
        "id": "PqVbKsCYJqi4"
      },
      "source": [
        ""
      ],
      "execution_count": null,
      "outputs": []
    }
  ]
}